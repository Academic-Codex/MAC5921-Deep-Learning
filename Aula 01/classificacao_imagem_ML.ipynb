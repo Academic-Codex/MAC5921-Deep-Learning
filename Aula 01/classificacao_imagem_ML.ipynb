{
 "cells": [
  {
   "cell_type": "code",
   "execution_count": 1,
   "id": "d4550eb9",
   "metadata": {},
   "outputs": [],
   "source": [
    "import numpy as np\n",
    "from skimage.feature import hog\n",
    "from skimage.color import rgb2gray\n",
    "from sklearn.datasets import fetch_openml\n",
    "from sklearn.model_selection import train_test_split"
   ]
  },
  {
   "cell_type": "markdown",
   "id": "fb8f0f27",
   "metadata": {},
   "source": [
    "#### 1. Carregar o dataset CIFAR-10\n",
    "#### A flag 'as_frame=False' garante que os dados vêm como arrays numpy"
   ]
  },
  {
   "cell_type": "code",
   "execution_count": null,
   "id": "3adfbbfa",
   "metadata": {},
   "outputs": [],
   "source": []
  },
  {
   "cell_type": "code",
   "execution_count": 3,
   "id": "0701a409",
   "metadata": {},
   "outputs": [
    {
     "name": "stdout",
     "output_type": "stream",
     "text": [
      "Baixando o dataset CIFAR-10...\n",
      "Dataset baixado.\n"
     ]
    }
   ],
   "source": [
    "print(\"Baixando o dataset CIFAR-10...\")\n",
    "cifar = fetch_openml(name='CIFAR_10', version=1, as_frame=False, parser='auto')\n",
    "print(\"Dataset baixado.\")"
   ]
  },
  {
   "cell_type": "code",
   "execution_count": 10,
   "id": "a878da6e",
   "metadata": {},
   "outputs": [
    {
     "data": {
      "text/plain": [
       "(60000, 32, 32, 3)"
      ]
     },
     "execution_count": 10,
     "metadata": {},
     "output_type": "execute_result"
    }
   ],
   "source": [
    "# Os dados brutos vêm como uma matriz de pixels (32x32x3 para RGB)\n",
    "X = cifar.data.reshape(-1, 32, 32, 3)\n",
    "y = cifar.target\n",
    "X.shape\n"
   ]
  },
  {
   "cell_type": "code",
   "execution_count": 7,
   "id": "f7d1b79d",
   "metadata": {},
   "outputs": [
    {
     "name": "stdout",
     "output_type": "stream",
     "text": [
      "Shape dos dados de treino (cinza): (48000, 32, 32)\n",
      "Shape dos rótulos de treino: (48000,)\n",
      "Shape dos dados de teste (cinza): (12000, 32, 32)\n",
      "Shape dos rótulos de teste: (12000,)\n"
     ]
    }
   ],
   "source": [
    "# 2. Pré-processamento: converter para escala de cinza\n",
    "# HOG é mais eficiente com imagens em tons de cinza\n",
    "X_gray = np.array([rgb2gray(img) for img in X])\n",
    "\n",
    "# 3. Dividir os dados em conjuntos de treino e teste\n",
    "X_train, X_test, y_train, y_test = train_test_split(X_gray, y, test_size=0.2, random_state=42)\n",
    "\n",
    "print(f\"Shape dos dados de treino (cinza): {X_train.shape}\")\n",
    "print(f\"Shape dos rótulos de treino: {y_train.shape}\")\n",
    "print(f\"Shape dos dados de teste (cinza): {X_test.shape}\")\n",
    "print(f\"Shape dos rótulos de teste: {y_test.shape}\")"
   ]
  },
  {
   "cell_type": "markdown",
   "id": "425c02ab",
   "metadata": {},
   "source": [
    "### Visualizando o dataset"
   ]
  },
  {
   "cell_type": "code",
   "execution_count": null,
   "id": "163611e7",
   "metadata": {},
   "outputs": [
    {
     "name": "stdout",
     "output_type": "stream",
     "text": [
      "\n",
      "--- Visualização da Estrutura dos Dados ---\n",
      "Número total de imagens: 60000\n",
      "Dimensão de cada imagem: 32x32 pixels\n",
      "Número de canais de cor (RGB): 3\n",
      "Classes de rótulos disponíveis: ['0' '1' '2' '3' '4' '5' '6' '7' '8' '9']\n",
      "\n",
      "--- Dados da primeira imagem (antes da conversão para cinza) ---\n",
      "Shape da primeira imagem: (32, 32, 3)\n",
      "Valores dos pixels (por exemplo, os 5 primeiros de cada canal):\n",
      "Canal Vermelho (R): [26 13 14 10 18]\n",
      "Canal Verde (G):  [17 13 15 13 11]\n",
      "Canal Azul (B):   [13 14 14 26 10]\n",
      "Rótulo da primeira imagem: 8\n",
      "\n",
      "--- Dados da primeira imagem em tons de cinza ---\n",
      "Shape da primeira imagem em tons de cinza: (32, 32)\n",
      "Valores dos pixels (por exemplo, os 5 primeiros):\n",
      "Pixels: [2.01922897e-18 1.41727992e-18 1.59544686e-18 1.44196721e-18\n",
      " 1.34608037e-18]\n",
      "Rótulo da primeira imagem: 8\n"
     ]
    }
   ],
   "source": [
    "\n",
    "# Visualizar a estrutura dos dados\n",
    "print(\"\\n--- Visualização da Estrutura dos Dados ---\")\n",
    "print(f\"Número total de imagens: {X.shape[0]}\")\n",
    "print(f\"Dimensão de cada imagem: {X.shape[1]}x{X.shape[2]} pixels\")\n",
    "print(f\"Número de canais de cor (RGB): {X.shape[3]}\")\n",
    "print(f\"Classes de rótulos disponíveis: {np.unique(y)}\")\n",
    "\n",
    "# Pegar uma \"view\" parcial do dataset (as 5 primeiras imagens)\n",
    "X_view = X[:5]\n",
    "y_view = y[:5]\n",
    "\n",
    "# Imprimir a forma e alguns valores dos pixels da primeira imagem\n",
    "print(\"\\n--- Dados da primeira imagem (antes da conversão para cinza) ---\")\n",
    "print(f\"Shape da primeira imagem: {X_view[0].shape}\")\n",
    "print(\"Valores dos pixels (por exemplo, os 5 primeiros de cada canal):\")\n",
    "print(f\"Canal Vermelho (R): {X_view[0, :, :, 0].flatten()[:5]}\")\n",
    "print(f\"Canal Verde (G):  {X_view[0, :, :, 1].flatten()[:5]}\")\n",
    "print(f\"Canal Azul (B):   {X_view[0, :, :, 2].flatten()[:5]}\")\n",
    "print(f\"Rótulo da primeira imagem: {y_view[0]}\")\n",
    "\n",
    "# Imprimir a forma e alguns valores da primeira imagem em tons de cinza\n",
    "print(\"\\n--- Dados da primeira imagem em tons de cinza ---\")\n",
    "print(f\"Shape da primeira imagem em tons de cinza: {X_gray[0].shape}\")\n",
    "print(\"Valores dos pixels (por exemplo, os 5 primeiros):\")\n",
    "print(f\"Pixels: {X_gray[0].flatten()[:5]}\")\n",
    "print(f\"Rótulo da primeira imagem: {y_view[0]}\")"
   ]
  },
  {
   "cell_type": "code",
   "execution_count": null,
   "id": "ce0e68d8",
   "metadata": {},
   "outputs": [],
   "source": []
  }
 ],
 "metadata": {
  "kernelspec": {
   "display_name": ".venv",
   "language": "python",
   "name": "python3"
  },
  "language_info": {
   "codemirror_mode": {
    "name": "ipython",
    "version": 3
   },
   "file_extension": ".py",
   "mimetype": "text/x-python",
   "name": "python",
   "nbconvert_exporter": "python",
   "pygments_lexer": "ipython3",
   "version": "3.13.5"
  }
 },
 "nbformat": 4,
 "nbformat_minor": 5
}

{
 "cells": [
  {
   "cell_type": "markdown",
   "id": "0dd4d187",
   "metadata": {},
   "source": [
    "# Regressão Linear: Implementação e Explicação\n",
    "\n",
    "Este notebook demonstra a implementação de um modelo de Regressão Linear para prever o peso (`Weight`) de uma pessoa com base em outras características.\n",
    "\n",
    "## O que é Regressão Linear?\n",
    "\n",
    "A Regressão Linear é um algoritmo de aprendizado de máquina supervisionado que modela a relação entre uma variável dependente (alvo) e uma ou mais variáveis independentes (preditoras), ajustando uma equação linear aos dados.\n",
    "\n",
    "O objetivo é encontrar os **pesos** (ou coeficientes) da equação linear. Usaremos a notação **w** para os pesos.\n",
    "\n",
    "A equação para a Regressão Linear Múltipla é:\n",
    "\n",
    "$$y = w_0 + w_1x_1 + w_2x_2 + ... + w_nx_n + \\epsilon$$\n",
    "\n",
    "Onde:\n",
    "- $y$ é a variável dependente (o que queremos prever).\n",
    "- $x_1, x_2, ..., x_n$ são as variáveis independentes (nossos recursos).\n",
    "- $w_0$ é o intercepto (também chamado de *bias*). É o valor de $y$ quando todas as variáveis independentes são 0.\n",
    "- $w_1, w_2, ..., w_n$ são os pesos que indicam a importância de cada recurso.\n",
    "- $\\epsilon$ é o erro do modelo.\n",
    "\n",
    "Em notação vetorial, a equação pode ser escrita como:\n",
    "\n",
    "$$y = Xw + \\epsilon$$\n",
    "\n",
    "Nosso objetivo é encontrar o vetor de pesos **w** que melhor ajusta o modelo aos dados, minimizando o erro."
   ]
  },
  {
   "cell_type": "markdown",
   "id": "ac8cb16c",
   "metadata": {},
   "source": [
    "### Import de bibliotecas"
   ]
  },
  {
   "cell_type": "code",
   "execution_count": 28,
   "id": "e20cd45c",
   "metadata": {},
   "outputs": [],
   "source": [
    "import pandas as pd\n",
    "import numpy as np\n",
    "import matplotlib.pyplot as plt\n",
    "import seaborn as sns\n",
    "from sklearn.model_selection import train_test_split\n",
    "from sklearn.linear_model import LinearRegression\n",
    "from sklearn.metrics import mean_squared_error, r2_score"
   ]
  },
  {
   "cell_type": "markdown",
   "id": "32b8196f",
   "metadata": {},
   "source": [
    "## 1. Carregando e Explorando os Dados\n",
    "\n",
    "Primeiro, vamos carregar o conjunto de dados do arquivo `data_0460_5832.csv` e dar uma olhada nas primeiras linhas para entender sua estrutura e seus dados."
   ]
  },
  {
   "cell_type": "code",
   "execution_count": 29,
   "id": "05438905",
   "metadata": {},
   "outputs": [
    {
     "name": "stdout",
     "output_type": "stream",
     "text": [
      "Primeiras 5 linhas do dataset:\n",
      "      Sex  Age  Height  Weight  Shoe number\n",
      "0  Female   53     154      59           36\n",
      "1    Male   23     170      56           40\n",
      "2  Female   23     167      63           37\n",
      "3    Male   21     178      78           40\n",
      "4  Female   25     153      58           36\n",
      "\n",
      "Informações do DataFrame:\n",
      "<class 'pandas.core.frame.DataFrame'>\n",
      "RangeIndex: 257 entries, 0 to 256\n",
      "Data columns (total 5 columns):\n",
      " #   Column       Non-Null Count  Dtype \n",
      "---  ------       --------------  ----- \n",
      " 0   Sex          257 non-null    object\n",
      " 1   Age          257 non-null    int64 \n",
      " 2   Height       257 non-null    int64 \n",
      " 3   Weight       257 non-null    int64 \n",
      " 4   Shoe number  257 non-null    int64 \n",
      "dtypes: int64(4), object(1)\n",
      "memory usage: 10.2+ KB\n"
     ]
    }
   ],
   "source": [
    "# A função pd.read_csv() lê o arquivo e o carrega em um DataFrame do pandas.\n",
    "df = pd.read_csv('data_0460_5832.csv')\n",
    "\n",
    "# O comando .head() mostra as 5 primeiras linhas do DataFrame.\n",
    "print(\"Primeiras 5 linhas do dataset:\")\n",
    "print(df.head())\n",
    "\n",
    "# O comando .info() mostra um resumo técnico, incluindo os tipos de cada coluna.\n",
    "print('\\nInformações do DataFrame:')\n",
    "df.info()"
   ]
  },
  {
   "cell_type": "markdown",
   "id": "22fb5157",
   "metadata": {},
   "source": [
    "## 2. Preparação dos Dados\n",
    "\n",
    "Antes de treinar nosso modelo, precisamos preparar os dados. Isso envolve:\n",
    "\n",
    "1.  **Lidar com variáveis categóricas**: A coluna `Sex` é categórica ('Male'/'Female'). Os modelos de regressão linear requerem entradas numéricas. Usaremos uma técnica chamada *one-hot encoding* para converter essa coluna em colunas numéricas (0s e 1s).\n",
    "2.  **Definir Features (X) e Target (y)**: Separaremos nosso conjunto de dados em:\n",
    "    * `X`: a matriz de features (as variáveis que usaremos para fazer a previsão).\n",
    "    * `y`: o vetor alvo (a variável que queremos prever, neste caso, `Weight`)."
   ]
  },
  {
   "cell_type": "code",
   "execution_count": 30,
   "id": "ef3bc1dd",
   "metadata": {},
   "outputs": [
    {
     "name": "stdout",
     "output_type": "stream",
     "text": [
      "Features (X) - 5 primeiras linhas:\n",
      "   Age  Height  Shoe number  Sex_Male\n",
      "0   53     154           36     False\n",
      "1   23     170           40      True\n",
      "2   23     167           37     False\n",
      "3   21     178           40      True\n",
      "4   25     153           36     False\n",
      "\n",
      "Target (y) - 5 primeiras linhas:\n",
      "0    59\n",
      "1    56\n",
      "2    63\n",
      "3    78\n",
      "4    58\n",
      "Name: Weight, dtype: int64\n"
     ]
    }
   ],
   "source": [
    "# A função pd.get_dummies() converte variáveis categóricas em variáveis dummy/indicadoras.\n",
    "# drop_first=True remove a primeira categoria para evitar multicolinearidade (redundância).\n",
    "# Neste caso, teremos uma coluna 'Sex_Male'. Se for 1, é homem; se for 0, é mulher.\n",
    "df_processed = pd.get_dummies(df, columns=['Sex'], drop_first=True)\n",
    "\n",
    "# X recebe todas as colunas, exceto a coluna 'Weight' (nosso alvo).\n",
    "X = df_processed.drop('Weight', axis=1)\n",
    "\n",
    "# y recebe apenas a coluna 'Weight'.\n",
    "y = df_processed['Weight']\n",
    "\n",
    "# Imprimimos as primeiras linhas de X e y para verificar o resultado.\n",
    "print('Features (X) - 5 primeiras linhas:')\n",
    "print(X.head())\n",
    "\n",
    "print('\\nTarget (y) - 5 primeiras linhas:')\n",
    "print(y.head())"
   ]
  },
  {
   "cell_type": "markdown",
   "id": "1789a0a6",
   "metadata": {},
   "source": [
    "## 3. Resolvendo a Regressão Linear com a Equação Normal\n",
    "\n",
    "Uma maneira de encontrar os pesos ótimos ($w$) é usando a **Equação Normal**. Esta é uma solução analítica que minimiza a função de custo diretamente.\n",
    "\n",
    "A fórmula da Equação Normal é:\n",
    "\n",
    "$$w = (X^T X)^{-1} X^T y$$\n",
    "\n",
    "Onde:\n",
    "- $X^T$ é a transposta da matriz de features.\n",
    "- $(X^T X)^{-1}$ é a inversa do produto da transposta de X por X.\n",
    "- $y$ é o vetor de valores alvo.\n",
    "\n",
    "**Importante**: A matriz $X$ que usamos nesta fórmula precisa incluir o termo de intercepto ($w_0$). Para fazer isso, vamos adicionar uma coluna de 1s no início da nossa matriz de features `X`."
   ]
  },
  {
   "cell_type": "code",
   "execution_count": 31,
   "id": "06670e4e",
   "metadata": {},
   "outputs": [
    {
     "ename": "UFuncTypeError",
     "evalue": "Cannot cast ufunc 'inv' input from dtype('O') to dtype('float64') with casting rule 'same_kind'",
     "output_type": "error",
     "traceback": [
      "\u001b[31m---------------------------------------------------------------------------\u001b[39m",
      "\u001b[31mUFuncTypeError\u001b[39m                            Traceback (most recent call last)",
      "\u001b[36mCell\u001b[39m\u001b[36m \u001b[39m\u001b[32mIn[31]\u001b[39m\u001b[32m, line 9\u001b[39m\n\u001b[32m      3\u001b[39m X_b = np.c_[np.ones((X.shape[\u001b[32m0\u001b[39m], \u001b[32m1\u001b[39m)), X.values]\n\u001b[32m      5\u001b[39m \u001b[38;5;66;03m# Calculando os pesos 'w' usando a Equação Normal: w = inv(X^T * X) * X^T * y\u001b[39;00m\n\u001b[32m      6\u001b[39m \u001b[38;5;66;03m# np.linalg.inv() calcula a inversa da matriz\u001b[39;00m\n\u001b[32m      7\u001b[39m \u001b[38;5;66;03m# .T transpõe a matriz\u001b[39;00m\n\u001b[32m      8\u001b[39m \u001b[38;5;66;03m# .dot() realiza a multiplicação de matrizes\u001b[39;00m\n\u001b[32m----> \u001b[39m\u001b[32m9\u001b[39m w_best = \u001b[43mnp\u001b[49m\u001b[43m.\u001b[49m\u001b[43mlinalg\u001b[49m\u001b[43m.\u001b[49m\u001b[43minv\u001b[49m\u001b[43m(\u001b[49m\u001b[43mX_b\u001b[49m\u001b[43m.\u001b[49m\u001b[43mT\u001b[49m\u001b[43m.\u001b[49m\u001b[43mdot\u001b[49m\u001b[43m(\u001b[49m\u001b[43mX_b\u001b[49m\u001b[43m)\u001b[49m\u001b[43m)\u001b[49m.dot(X_b.T).dot(y)\n\u001b[32m     11\u001b[39m \u001b[38;5;66;03m# Exibindo os pesos encontrados\u001b[39;00m\n\u001b[32m     12\u001b[39m \u001b[38;5;28mprint\u001b[39m(\u001b[33m'\u001b[39m\u001b[33mPesos (w) encontrados com a Equação Normal:\u001b[39m\u001b[33m'\u001b[39m)\n",
      "\u001b[36mFile \u001b[39m\u001b[32m~/Repo/Organizações/Academic-Codex/MAC5921-Deep-Learning/.venv/lib/python3.13/site-packages/numpy/linalg/_linalg.py:669\u001b[39m, in \u001b[36minv\u001b[39m\u001b[34m(a)\u001b[39m\n\u001b[32m    666\u001b[39m signature = \u001b[33m'\u001b[39m\u001b[33mD->D\u001b[39m\u001b[33m'\u001b[39m \u001b[38;5;28;01mif\u001b[39;00m isComplexType(t) \u001b[38;5;28;01melse\u001b[39;00m \u001b[33m'\u001b[39m\u001b[33md->d\u001b[39m\u001b[33m'\u001b[39m\n\u001b[32m    667\u001b[39m \u001b[38;5;28;01mwith\u001b[39;00m errstate(call=_raise_linalgerror_singular, invalid=\u001b[33m'\u001b[39m\u001b[33mcall\u001b[39m\u001b[33m'\u001b[39m,\n\u001b[32m    668\u001b[39m               over=\u001b[33m'\u001b[39m\u001b[33mignore\u001b[39m\u001b[33m'\u001b[39m, divide=\u001b[33m'\u001b[39m\u001b[33mignore\u001b[39m\u001b[33m'\u001b[39m, under=\u001b[33m'\u001b[39m\u001b[33mignore\u001b[39m\u001b[33m'\u001b[39m):\n\u001b[32m--> \u001b[39m\u001b[32m669\u001b[39m     ainv = \u001b[43m_umath_linalg\u001b[49m\u001b[43m.\u001b[49m\u001b[43minv\u001b[49m\u001b[43m(\u001b[49m\u001b[43ma\u001b[49m\u001b[43m,\u001b[49m\u001b[43m \u001b[49m\u001b[43msignature\u001b[49m\u001b[43m=\u001b[49m\u001b[43msignature\u001b[49m\u001b[43m)\u001b[49m\n\u001b[32m    670\u001b[39m \u001b[38;5;28;01mreturn\u001b[39;00m wrap(ainv.astype(result_t, copy=\u001b[38;5;28;01mFalse\u001b[39;00m))\n",
      "\u001b[31mUFuncTypeError\u001b[39m: Cannot cast ufunc 'inv' input from dtype('O') to dtype('float64') with casting rule 'same_kind'"
     ]
    }
   ],
   "source": [
    "# Adicionando uma coluna de 1s no início de X para o termo de intercepto (w0).\n",
    "# np.c_ é um atalho do NumPy para concatenar arrays por colunas.\n",
    "X_b = np.c_[np.ones((X.shape[0], 1)), X.values]\n",
    "\n",
    "# Calculando os pesos 'w' usando a Equação Normal: w = inv(X^T * X) * X^T * y\n",
    "# np.linalg.inv() calcula a inversa da matriz\n",
    "# .T transpõe a matriz\n",
    "# .dot() realiza a multiplicação de matrizes\n",
    "w_best = np.linalg.inv(X_b.T.dot(X_b)).dot(X_b.T).dot(y)\n",
    "\n",
    "# Exibindo os pesos encontrados\n",
    "print('Pesos (w) encontrados com a Equação Normal:')\n",
    "feature_names = ['Intercepto (w0)'] + X.columns.tolist()\n",
    "for name, weight in zip(feature_names, w_best):\n",
    "    print(f'{name}: {weight}')"
   ]
  },
  {
   "cell_type": "code",
   "execution_count": null,
   "id": "8251e1eb",
   "metadata": {},
   "outputs": [],
   "source": []
  },
  {
   "cell_type": "code",
   "execution_count": null,
   "id": "fa29e7e4",
   "metadata": {},
   "outputs": [],
   "source": []
  },
  {
   "cell_type": "code",
   "execution_count": 15,
   "id": "adaf2fff",
   "metadata": {},
   "outputs": [
    {
     "data": {
      "text/html": [
       "<div>\n",
       "<style scoped>\n",
       "    .dataframe tbody tr th:only-of-type {\n",
       "        vertical-align: middle;\n",
       "    }\n",
       "\n",
       "    .dataframe tbody tr th {\n",
       "        vertical-align: top;\n",
       "    }\n",
       "\n",
       "    .dataframe thead th {\n",
       "        text-align: right;\n",
       "    }\n",
       "</style>\n",
       "<table border=\"1\" class=\"dataframe\">\n",
       "  <thead>\n",
       "    <tr style=\"text-align: right;\">\n",
       "      <th></th>\n",
       "      <th>Sex</th>\n",
       "      <th>Age</th>\n",
       "      <th>Height</th>\n",
       "      <th>Weight</th>\n",
       "      <th>Shoe number</th>\n",
       "      <th>Sex_numeric</th>\n",
       "    </tr>\n",
       "  </thead>\n",
       "  <tbody>\n",
       "    <tr>\n",
       "      <th>0</th>\n",
       "      <td>Female</td>\n",
       "      <td>53</td>\n",
       "      <td>154</td>\n",
       "      <td>59</td>\n",
       "      <td>36</td>\n",
       "      <td>0</td>\n",
       "    </tr>\n",
       "    <tr>\n",
       "      <th>1</th>\n",
       "      <td>Male</td>\n",
       "      <td>23</td>\n",
       "      <td>170</td>\n",
       "      <td>56</td>\n",
       "      <td>40</td>\n",
       "      <td>1</td>\n",
       "    </tr>\n",
       "    <tr>\n",
       "      <th>2</th>\n",
       "      <td>Female</td>\n",
       "      <td>23</td>\n",
       "      <td>167</td>\n",
       "      <td>63</td>\n",
       "      <td>37</td>\n",
       "      <td>0</td>\n",
       "    </tr>\n",
       "    <tr>\n",
       "      <th>3</th>\n",
       "      <td>Male</td>\n",
       "      <td>21</td>\n",
       "      <td>178</td>\n",
       "      <td>78</td>\n",
       "      <td>40</td>\n",
       "      <td>1</td>\n",
       "    </tr>\n",
       "    <tr>\n",
       "      <th>4</th>\n",
       "      <td>Female</td>\n",
       "      <td>25</td>\n",
       "      <td>153</td>\n",
       "      <td>58</td>\n",
       "      <td>36</td>\n",
       "      <td>0</td>\n",
       "    </tr>\n",
       "  </tbody>\n",
       "</table>\n",
       "</div>"
      ],
      "text/plain": [
       "      Sex  Age  Height  Weight  Shoe number  Sex_numeric\n",
       "0  Female   53     154      59           36            0\n",
       "1    Male   23     170      56           40            1\n",
       "2  Female   23     167      63           37            0\n",
       "3    Male   21     178      78           40            1\n",
       "4  Female   25     153      58           36            0"
      ]
     },
     "execution_count": 15,
     "metadata": {},
     "output_type": "execute_result"
    }
   ],
   "source": [
    "# Criar uma nova coluna numérica para o sexo\n",
    "df['Sex_numeric'] = df['Sex'].map({'Female': 0, 'Male': 1})\n",
    "\n",
    "# Exibir as primeiras linhas para ver a nova coluna\n",
    "df.head()"
   ]
  },
  {
   "cell_type": "markdown",
   "id": "46f6beb8",
   "metadata": {},
   "source": [
    "### Modelagem dos dataset no pytorch"
   ]
  },
  {
   "cell_type": "code",
   "execution_count": 16,
   "id": "b4398af8",
   "metadata": {},
   "outputs": [],
   "source": [
    "# 1. Selecionar as colunas e converter para arrays NumPy\n",
    "X_reg = df[['Height']].values\n",
    "y_reg = df[['Weight']].values\n",
    "\n",
    "# 2. Converter os arrays para tensores do PyTorch\n",
    "X_reg_tensor = torch.from_numpy(X_reg.astype('float32'))\n",
    "y_reg_tensor = torch.from_numpy(y_reg.astype('float32'))"
   ]
  },
  {
   "cell_type": "markdown",
   "id": "c895e544",
   "metadata": {},
   "source": [
    "### Implementação da regressao Linear"
   ]
  },
  {
   "cell_type": "code",
   "execution_count": 17,
   "id": "5bc95da9",
   "metadata": {},
   "outputs": [],
   "source": [
    "# Definir o modelo de regressão linear\n",
    "model_reg = nn.Linear(1, 1)\n",
    "\n",
    "# Definir a função de custo (Loss) e o otimizador\n",
    "learning_rate = 0.0001\n",
    "criterion_reg = nn.MSELoss()\n",
    "optimizer_reg = torch.optim.SGD(model_reg.parameters(), lr=learning_rate)"
   ]
  },
  {
   "cell_type": "markdown",
   "id": "6ac96fb6",
   "metadata": {},
   "source": [
    "### Treinamento do modelo\n"
   ]
  },
  {
   "cell_type": "code",
   "execution_count": 18,
   "id": "e7d02c8f",
   "metadata": {},
   "outputs": [
    {
     "name": "stdout",
     "output_type": "stream",
     "text": [
      "Iniciando o treinamento do modelo de Regressão Linear...\n",
      "Epoch [200/2000], Loss: nan\n",
      "Epoch [400/2000], Loss: nan\n",
      "Epoch [600/2000], Loss: nan\n",
      "Epoch [800/2000], Loss: nan\n",
      "Epoch [1000/2000], Loss: nan\n",
      "Epoch [1200/2000], Loss: nan\n",
      "Epoch [1400/2000], Loss: nan\n",
      "Epoch [1600/2000], Loss: nan\n",
      "Epoch [1800/2000], Loss: nan\n",
      "Epoch [2000/2000], Loss: nan\n",
      "Treinamento concluído!\n"
     ]
    }
   ],
   "source": [
    "num_epochs = 2000\n",
    "print(\"Iniciando o treinamento do modelo de Regressão Linear...\")\n",
    "\n",
    "for epoch in range(num_epochs):\n",
    "    # Forward pass: obter predições\n",
    "    outputs = model_reg(X_reg_tensor)\n",
    "    loss = criterion_reg(outputs, y_reg_tensor)\n",
    "    \n",
    "    # Backward pass: calcular gradientes e atualizar pesos\n",
    "    optimizer_reg.zero_grad() # Limpar gradientes antigos\n",
    "    loss.backward()           # Calcular novos gradientes\n",
    "    optimizer_reg.step()        # Atualizar os pesos do modelo\n",
    "    \n",
    "    if (epoch+1) % 200 == 0:\n",
    "        print(f'Epoch [{epoch+1}/{num_epochs}], Loss: {loss.item():.4f}')\n",
    "\n",
    "print(\"Treinamento concluído!\")"
   ]
  },
  {
   "cell_type": "code",
   "execution_count": null,
   "id": "d7b21636",
   "metadata": {},
   "outputs": [],
   "source": []
  },
  {
   "cell_type": "markdown",
   "id": "ca7fbcc0",
   "metadata": {},
   "source": [
    "### Visualizando os Resultados"
   ]
  },
  {
   "cell_type": "code",
   "execution_count": 19,
   "id": "78f07251",
   "metadata": {},
   "outputs": [
    {
     "data": {
      "image/png": "[encoded data removed]",
      "text/plain": [
       "<Figure size 1000x600 with 1 Axes>"
      ]
     },
     "metadata": {},
     "output_type": "display_data"
    }
   ],
   "source": [
    "# Desabilitar o cálculo de gradientes para fazer a predição\n",
    "predicted = model_reg(X_reg_tensor).detach().numpy()\n",
    "\n",
    "# Plotar o gráfico\n",
    "plt.figure(figsize=(10, 6))\n",
    "plt.scatter(X_reg, y_reg, label='Dados Originais')\n",
    "plt.plot(X_reg, predicted, color='red', linewidth=2, label='Linha de Regressão Aprendida')\n",
    "plt.xlabel('Altura (cm)')\n",
    "plt.ylabel('Peso (kg)')\n",
    "plt.title('Regressão Linear: Altura vs. Peso')\n",
    "plt.legend()\n",
    "plt.grid(True)\n",
    "plt.show()"
   ]
  },
  {
   "cell_type": "code",
   "execution_count": null,
   "id": "188b10fd",
   "metadata": {},
   "outputs": [],
   "source": []
  },
  {
   "cell_type": "markdown",
   "id": "5b15feef",
   "metadata": {},
   "source": [
    "# Regressão Linear: Implementação e Explicação\n",
    "\n",
    "Este notebook demonstra a implementação de um modelo de Regressão Linear para prever o peso (`Weight`) de uma pessoa com base em outras características, como altura, idade, sexo e número do sapato.\n",
    "\n",
    "## O que é Regressão Linear?\n",
    "\n",
    "A Regressão Linear é um algoritmo de aprendizado de máquina supervisionado que modela a relação entre uma variável dependente (alvo) e uma ou mais variáveis independentes (preditoras), ajustando uma equação linear aos dados.\n",
    "\n",
    "A equação para a Regressão Linear Múltipla é:\n",
    "\n",
    "$$y = \\beta_0 + \\beta_1x_1 + \\beta_2x_2 + ... + \\beta_nx_n + \\epsilon$$\n",
    "\n",
    "Onde:\n",
    "- $y$ é a variável dependente (o que queremos prever).\n",
    "- $x_1, x_2, ..., x_n$ são as variáveis independentes (nossos recursos).\n",
    "- $\\beta_0$ é o intercepto (o valor de $y$ quando todas as variáveis independentes são 0).\n",
    "- $\\beta_1, \\beta_2, ..., \\beta_n$ são os coeficientes de regressão (o \"peso\" de cada recurso).\n",
    "- $\\epsilon$ é o erro do modelo.\n",
    "\n",
    "Em notação vetorial, a equação pode ser escrita como:\n",
    "\n",
    "$$y = X\\beta + \\epsilon$$\n",
    "\n",
    "Nosso objetivo é encontrar os melhores valores para os coeficientes $\\beta$ que minimizem o erro."
   ]
  },
  {
   "cell_type": "code",
   "execution_count": 23,
   "id": "e3a2225c",
   "metadata": {},
   "outputs": [],
   "source": [
    "import pandas as pd\n",
    "import numpy as np\n",
    "import matplotlib.pyplot as plt\n",
    "import seaborn as sns\n",
    "from sklearn.model_selection import train_test_split\n",
    "from sklearn.linear_model import LinearRegression\n",
    "from sklearn.metrics import mean_squared_error, r2_score"
   ]
  },
  {
   "cell_type": "markdown",
   "id": "ea714a77",
   "metadata": {},
   "source": [
    "## 1. Carregando e Explorando os Dados\n",
    "\n",
    "Primeiro, vamos carregar o conjunto de dados e dar uma olhada nas primeiras linhas para entender sua estrutura."
   ]
  },
  {
   "cell_type": "code",
   "execution_count": 24,
   "id": "8e9fde84",
   "metadata": {},
   "outputs": [
    {
     "name": "stdout",
     "output_type": "stream",
     "text": [
      "Primeiras 5 linhas do dataset:\n",
      "      Sex  Age  Height  Weight  Shoe number\n",
      "0  Female   53     154      59           36\n",
      "1    Male   23     170      56           40\n",
      "2  Female   23     167      63           37\n",
      "3    Male   21     178      78           40\n",
      "4  Female   25     153      58           36\n",
      "\n",
      "Informações do DataFrame:\n",
      "<class 'pandas.core.frame.DataFrame'>\n",
      "RangeIndex: 257 entries, 0 to 256\n",
      "Data columns (total 5 columns):\n",
      " #   Column       Non-Null Count  Dtype \n",
      "---  ------       --------------  ----- \n",
      " 0   Sex          257 non-null    object\n",
      " 1   Age          257 non-null    int64 \n",
      " 2   Height       257 non-null    int64 \n",
      " 3   Weight       257 non-null    int64 \n",
      " 4   Shoe number  257 non-null    int64 \n",
      "dtypes: int64(4), object(1)\n",
      "memory usage: 10.2+ KB\n",
      "\n",
      "Estatísticas Descritivas:\n",
      "              Age      Height      Weight  Shoe number\n",
      "count  257.000000  257.000000  257.000000   257.000000\n",
      "mean    28.478599  170.206226   70.377432    39.494163\n",
      "std     13.310319   14.472235   16.145141     3.010555\n",
      "min      3.000000   12.000000   11.000000    21.000000\n",
      "25%     21.000000  164.000000   60.000000    37.000000\n",
      "50%     23.000000  171.000000   70.000000    40.000000\n",
      "75%     29.000000  179.000000   80.000000    42.000000\n",
      "max     82.000000  194.000000  148.000000    46.000000\n"
     ]
    }
   ],
   "source": [
    "# Certifique-se de que o arquivo 'data_0460_5832.csv' está na mesma pasta que o notebook\n",
    "df = pd.read_csv('data_0460_5832.csv')\n",
    "\n",
    "print(\"Primeiras 5 linhas do dataset:\")\n",
    "print(df.head())\n",
    "\n",
    "print('\\nInformações do DataFrame:')\n",
    "df.info()\n",
    "\n",
    "print('\\nEstatísticas Descritivas:')\n",
    "print(df.describe())"
   ]
  },
  {
   "cell_type": "markdown",
   "id": "ce848565",
   "metadata": {},
   "source": [
    "## 2. Preparação dos Dados\n",
    "\n",
    "Antes de treinar nosso modelo, precisamos preparar os dados. Isso envolve:\n",
    "\n",
    "1.  **Lidar com variáveis categóricas**: A coluna `Sex` é categórica ('Male'/'Female'). Os modelos de regressão linear requerem entradas numéricas. Usaremos a técnica de *one-hot encoding* para converter essa coluna em colunas numéricas.\n",
    "2.  **Definir Features (X) e Target (y)**: Separaremos nosso conjunto de dados em `X` (as variáveis que usaremos para fazer a previsão) e `y` (a variável que queremos prever, neste caso, `Weight`)."
   ]
  },
  {
   "cell_type": "markdown",
   "id": "db121a9d",
   "metadata": {},
   "source": []
  },
  {
   "cell_type": "code",
   "execution_count": 25,
   "id": "49552cd5",
   "metadata": {},
   "outputs": [
    {
     "name": "stdout",
     "output_type": "stream",
     "text": [
      "Features (X) - 5 primeiras linhas:\n",
      "   Age  Height  Shoe number  Sex_Male\n",
      "0   53     154           36     False\n",
      "1   23     170           40      True\n",
      "2   23     167           37     False\n",
      "3   21     178           40      True\n",
      "4   25     153           36     False\n",
      "\n",
      "Target (y) - 5 primeiras linhas:\n",
      "0    59\n",
      "1    56\n",
      "2    63\n",
      "3    78\n",
      "4    58\n",
      "Name: Weight, dtype: int64\n"
     ]
    }
   ],
   "source": [
    "# Convertendo a coluna 'Sex' para variáveis dummy (one-hot encoding)\n",
    "# drop_first=True remove a multicolinearidade, já que Sex_Male=1 implica que a pessoa não é Female\n",
    "df_processed = pd.get_dummies(df, columns=['Sex'], drop_first=True)\n",
    "\n",
    "# Definindo as features (X) e o target (y)\n",
    "X = df_processed.drop('Weight', axis=1)\n",
    "y = df_processed['Weight']\n",
    "\n",
    "print('Features (X) - 5 primeiras linhas:')\n",
    "print(X.head())\n",
    "\n",
    "print('\\nTarget (y) - 5 primeiras linhas:')\n",
    "print(y.head())"
   ]
  },
  {
   "cell_type": "markdown",
   "id": "e639ebb3",
   "metadata": {},
   "source": [
    "## 3. Resolvendo a Regressão Linear com a Equação Normal\n",
    "\n",
    "Uma maneira de encontrar os coeficientes ótimos ($\\beta$) é usando a **Equação Normal**. Esta é uma solução analítica que encontra o mínimo da função de custo de uma só vez.\n",
    "\n",
    "A fórmula da Equação Normal é:\n",
    "\n",
    "$$\\beta = (X^T X)^{-1} X^T y$$\n",
    "\n",
    "Onde:\n",
    "- $X^T$ é a transposta da matriz de features.\n",
    "- $(X^T X)^{-1}$ é a inversa do produto da transposta de X por X.\n",
    "\n",
    "**Importante**: Para que o termo de intercepto ($\\beta_0$) seja calculado, precisamos adicionar uma coluna de 1s à nossa matriz de features `X`."
   ]
  },
  {
   "cell_type": "code",
   "execution_count": 27,
   "id": "7e8a204a",
   "metadata": {},
   "outputs": [
    {
     "ename": "UFuncTypeError",
     "evalue": "Cannot cast ufunc 'inv' input from dtype('O') to dtype('float64') with casting rule 'same_kind'",
     "output_type": "error",
     "traceback": [
      "\u001b[31m---------------------------------------------------------------------------\u001b[39m",
      "\u001b[31mUFuncTypeError\u001b[39m                            Traceback (most recent call last)",
      "\u001b[36mCell\u001b[39m\u001b[36m \u001b[39m\u001b[32mIn[27]\u001b[39m\u001b[32m, line 8\u001b[39m\n\u001b[32m      2\u001b[39m X_b = np.c_[np.ones((X.shape[\u001b[32m0\u001b[39m], \u001b[32m1\u001b[39m)), X.values]\n\u001b[32m      4\u001b[39m \u001b[38;5;66;03m# Calculando os coeficientes beta usando a Equação Normal\u001b[39;00m\n\u001b[32m      5\u001b[39m \u001b[38;5;66;03m# np.linalg.inv() calcula a inversa da matriz\u001b[39;00m\n\u001b[32m      6\u001b[39m \u001b[38;5;66;03m# .T transpõe a matriz\u001b[39;00m\n\u001b[32m      7\u001b[39m \u001b[38;5;66;03m# .dot() realiza a multiplicação de matrizes\u001b[39;00m\n\u001b[32m----> \u001b[39m\u001b[32m8\u001b[39m beta_best = \u001b[43mnp\u001b[49m\u001b[43m.\u001b[49m\u001b[43mlinalg\u001b[49m\u001b[43m.\u001b[49m\u001b[43minv\u001b[49m\u001b[43m(\u001b[49m\u001b[43mX_b\u001b[49m\u001b[43m.\u001b[49m\u001b[43mT\u001b[49m\u001b[43m.\u001b[49m\u001b[43mdot\u001b[49m\u001b[43m(\u001b[49m\u001b[43mX_b\u001b[49m\u001b[43m)\u001b[49m\u001b[43m)\u001b[49m.dot(X_b.T).dot(y)\n\u001b[32m     10\u001b[39m \u001b[38;5;28mprint\u001b[39m(\u001b[33m'\u001b[39m\u001b[33mCoeficientes encontrados com a Equação Normal:\u001b[39m\u001b[33m'\u001b[39m)\n\u001b[32m     11\u001b[39m feature_names = [\u001b[33m'\u001b[39m\u001b[33mIntercepto\u001b[39m\u001b[33m'\u001b[39m] + X.columns.tolist()\n",
      "\u001b[36mFile \u001b[39m\u001b[32m~/Repo/Organizações/Academic-Codex/MAC5921-Deep-Learning/.venv/lib/python3.13/site-packages/numpy/linalg/_linalg.py:669\u001b[39m, in \u001b[36minv\u001b[39m\u001b[34m(a)\u001b[39m\n\u001b[32m    666\u001b[39m signature = \u001b[33m'\u001b[39m\u001b[33mD->D\u001b[39m\u001b[33m'\u001b[39m \u001b[38;5;28;01mif\u001b[39;00m isComplexType(t) \u001b[38;5;28;01melse\u001b[39;00m \u001b[33m'\u001b[39m\u001b[33md->d\u001b[39m\u001b[33m'\u001b[39m\n\u001b[32m    667\u001b[39m \u001b[38;5;28;01mwith\u001b[39;00m errstate(call=_raise_linalgerror_singular, invalid=\u001b[33m'\u001b[39m\u001b[33mcall\u001b[39m\u001b[33m'\u001b[39m,\n\u001b[32m    668\u001b[39m               over=\u001b[33m'\u001b[39m\u001b[33mignore\u001b[39m\u001b[33m'\u001b[39m, divide=\u001b[33m'\u001b[39m\u001b[33mignore\u001b[39m\u001b[33m'\u001b[39m, under=\u001b[33m'\u001b[39m\u001b[33mignore\u001b[39m\u001b[33m'\u001b[39m):\n\u001b[32m--> \u001b[39m\u001b[32m669\u001b[39m     ainv = \u001b[43m_umath_linalg\u001b[49m\u001b[43m.\u001b[49m\u001b[43minv\u001b[49m\u001b[43m(\u001b[49m\u001b[43ma\u001b[49m\u001b[43m,\u001b[49m\u001b[43m \u001b[49m\u001b[43msignature\u001b[49m\u001b[43m=\u001b[49m\u001b[43msignature\u001b[49m\u001b[43m)\u001b[49m\n\u001b[32m    670\u001b[39m \u001b[38;5;28;01mreturn\u001b[39;00m wrap(ainv.astype(result_t, copy=\u001b[38;5;28;01mFalse\u001b[39;00m))\n",
      "\u001b[31mUFuncTypeError\u001b[39m: Cannot cast ufunc 'inv' input from dtype('O') to dtype('float64') with casting rule 'same_kind'"
     ]
    }
   ],
   "source": [
    "# Adicionando uma coluna de 1s para o intercepto\n",
    "X_b = np.c_[np.ones((X.shape[0], 1)), X.values]\n",
    "\n",
    "# Calculando os coeficientes beta usando a Equação Normal\n",
    "# np.linalg.inv() calcula a inversa da matriz\n",
    "# .T transpõe a matriz\n",
    "# .dot() realiza a multiplicação de matrizes\n",
    "beta_best = np.linalg.inv(X_b.T.dot(X_b)).dot(X_b.T).dot(y)\n",
    "\n",
    "print('Coeficientes encontrados com a Equação Normal:')\n",
    "feature_names = ['Intercepto'] + X.columns.tolist()\n",
    "for name, coef in zip(feature_names, beta_best):\n",
    "    print(f'{name}: {coef}')"
   ]
  },
  {
   "cell_type": "code",
   "execution_count": null,
   "id": "d41aac05",
   "metadata": {},
   "outputs": [],
   "source": []
  }
 ],
 "metadata": {
  "kernelspec": {
   "display_name": ".venv",
   "language": "python",
   "name": "python3"
  },
  "language_info": {
   "codemirror_mode": {
    "name": "ipython",
    "version": 3
   },
   "file_extension": ".py",
   "mimetype": "text/x-python",
   "name": "python",
   "nbconvert_exporter": "python",
   "pygments_lexer": "ipython3",
   "version": "3.13.5"
  }
 },
 "nbformat": 4,
 "nbformat_minor": 5
}

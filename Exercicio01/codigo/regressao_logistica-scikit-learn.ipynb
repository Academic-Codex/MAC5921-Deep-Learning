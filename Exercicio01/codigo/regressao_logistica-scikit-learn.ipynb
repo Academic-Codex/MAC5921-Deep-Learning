{
 "cells": [
  {
   "cell_type": "markdown",
   "id": "12936b3f",
   "metadata": {},
   "source": [
    "## 1) Carregando o Dataset"
   ]
  },
  {
   "cell_type": "code",
   "execution_count": 7,
   "id": "0de3f4a2",
   "metadata": {},
   "outputs": [
    {
     "name": "stdout",
     "output_type": "stream",
     "text": [
      "Primeiras 5 linhas do dataset:\n",
      "      Sex  Age  Height  Weight  Shoe number\n",
      "0  Female   53     154      59           36\n",
      "1    Male   23     170      56           40\n",
      "2  Female   23     167      63           37\n",
      "3    Male   21     178      78           40\n",
      "4  Female   25     153      58           36\n",
      "\n",
      "Informações do DataFrame:\n",
      "<class 'pandas.core.frame.DataFrame'>\n",
      "RangeIndex: 257 entries, 0 to 256\n",
      "Data columns (total 5 columns):\n",
      " #   Column       Non-Null Count  Dtype \n",
      "---  ------       --------------  ----- \n",
      " 0   Sex          257 non-null    object\n",
      " 1   Age          257 non-null    int64 \n",
      " 2   Height       257 non-null    int64 \n",
      " 3   Weight       257 non-null    int64 \n",
      " 4   Shoe number  257 non-null    int64 \n",
      "dtypes: int64(4), object(1)\n",
      "memory usage: 10.2+ KB\n"
     ]
    }
   ],
   "source": [
    "from pathlib import Path\n",
    "import pandas as pd\n",
    "\n",
    "# A função pd.read_csv() lê o arquivo e o carrega em um DataFrame do pandas.\n",
    "DATA_PATH = Path.cwd().joinpath(Path(\"Exercicio01/dataset/data_0460_5832.csv\"))\n",
    "df = pd.read_csv(DATA_PATH)\n",
    "\n",
    "# O comando .head() mostra as 5 primeiras linhas do DataFrame.\n",
    "print(\"Primeiras 5 linhas do dataset:\")\n",
    "print(df.head())\n",
    "\n",
    "# O comando .info() mostra um resumo técnico, incluindo os tipos de cada coluna.\n",
    "print('\\nInformações do DataFrame:')\n",
    "df.info()"
   ]
  },
  {
   "cell_type": "markdown",
   "id": "57d38f76",
   "metadata": {},
   "source": [
    "## 2) Tratamento dos dados\n",
    "\n",
    "Antes de treinar nosso modelo, precisamos preparar os dados. Isso envolve:\n",
    "\n",
    "1.  **Lidar com variáveis categóricas**: A coluna `Sex` é categórica ('Male'/'Female'). Os modelos de regressão linear requerem entradas numéricas. Usaremos uma técnica chamada *one-hot encoding* para converter essa coluna em colunas numéricas (0s e 1s).\n",
    "2.  **Definir Features (X) e Target (y)**: Separaremos nosso conjunto de dados em:\n",
    "    * `X`: a matriz de features (as variáveis que usaremos para fazer a previsão).\n",
    "    * `y`: o vetor alvo (a variável que queremos prever, neste caso, `Weight`)."
   ]
  },
  {
   "cell_type": "code",
   "execution_count": 8,
   "id": "19c17584",
   "metadata": {},
   "outputs": [
    {
     "name": "stdout",
     "output_type": "stream",
     "text": [
      "Coluna Sex mapeada para {'Female': 0, 'Male': 1}\n"
     ]
    }
   ],
   "source": [
    "import numpy as np\n",
    "\n",
    "# Copiar o df original para não sobrescrever\n",
    "df_encoded = df.copy()\n",
    "\n",
    "# Identificar colunas categóricas que só têm dois valores\n",
    "for col in df_encoded.select_dtypes(include=['object', 'category']).columns:\n",
    "    valores = df_encoded[col].dropna().unique()\n",
    "    if len(valores) == 2:\n",
    "        # mapear automaticamente para 0/1\n",
    "        mapping = {valores[0]: 0, valores[1]: 1}\n",
    "        df_encoded[col] = df_encoded[col].map(mapping)\n",
    "        print(f\"Coluna {col} mapeada para {mapping}\")\n",
    "    else:\n",
    "        df_encoded.drop(columns=[col], inplace=True)\n",
    "# remove colunas constantes\n",
    "num_cols = df_encoded.select_dtypes(include=[np.number]).columns.tolist()\n",
    "num_cols = [c for c in num_cols if df_encoded[c].nunique(dropna=True) > 1]\n"
   ]
  },
  {
   "cell_type": "markdown",
   "id": "4ee0f1f8",
   "metadata": {},
   "source": [
    "## 3) Regressão Logística"
   ]
  },
  {
   "cell_type": "code",
   "execution_count": 14,
   "id": "0f1fe3ee",
   "metadata": {},
   "outputs": [
    {
     "name": "stdout",
     "output_type": "stream",
     "text": [
      "CPU times: user 3.19 ms, sys: 81 µs, total: 3.27 ms\n",
      "Wall time: 3.09 ms\n",
      "\n",
      "[TREINO]\n",
      "Acc : 0.90625\n",
      "Prec: 0.9185185185185185\n",
      "Rec : 0.9465648854961832\n",
      "F1  : 0.9323308270676691\n",
      "\n",
      "[TESTE ]\n",
      "Acc : 0.8615384615384616\n",
      "Prec: 0.95\n",
      "Rec : 0.8444444444444444\n",
      "F1  : 0.8941176470588236\n",
      "ROC-AUC: 0.9322222222222223\n"
     ]
    },
    {
     "data": {
      "image/png": "[encoded data removed]",
      "text/plain": [
       "<Figure size 720x288 with 2 Axes>"
      ]
     },
     "metadata": {
      "needs_background": "light"
     },
     "output_type": "display_data"
    }
   ],
   "source": [
    "# --- 1) Seleção de X, y e split --------------------------------------------\n",
    "import numpy as np\n",
    "import pandas as pd\n",
    "from sklearn.model_selection import train_test_split\n",
    "from sklearn.preprocessing import StandardScaler\n",
    "from sklearn.pipeline import Pipeline\n",
    "from sklearn.linear_model import LogisticRegression\n",
    "from sklearn.metrics import (\n",
    "    accuracy_score, precision_score, recall_score, f1_score,\n",
    "    roc_auc_score, confusion_matrix, RocCurveDisplay, ConfusionMatrixDisplay\n",
    ")\n",
    "import matplotlib.pyplot as plt\n",
    "\n",
    "# alvo e features\n",
    "TARGET = \"Sex\"\n",
    "FEATS  = [c for c in df_encoded.columns if c != TARGET]\n",
    "\n",
    "X = df_encoded[FEATS].to_numpy(dtype=float)\n",
    "y = df_encoded[TARGET].to_numpy(dtype=int)\n",
    "\n",
    "X_tr, X_te, y_tr, y_te = train_test_split(\n",
    "    X, y, test_size=0.25, random_state=42, stratify=y\n",
    ")\n",
    "\n",
    "# --- 2) Pipeline (padronização + Regressão Logística) -----------------------\n",
    "logreg = Pipeline(steps=[\n",
    "    (\"std\", StandardScaler(with_mean=True, with_std=True)),\n",
    "    (\"clf\", LogisticRegression(\n",
    "        solver=\"liblinear\",      # bom p/ datasets pequenos\n",
    "        penalty=\"l2\",\n",
    "        C=1.0,\n",
    "        max_iter=500,\n",
    "        random_state=42\n",
    "    ))\n",
    "])\n",
    "\n",
    "%time logreg.fit(X_tr, y_tr)\n",
    "\n",
    "# --- 3) Métricas -------------------------------------------------------------\n",
    "p_tr = logreg.predict(X_tr)\n",
    "p_te = logreg.predict(X_te)\n",
    "proba_te = logreg.predict_proba(X_te)[:, 1]\n",
    "\n",
    "def show_classif_report(split, y_true, y_pred, proba=None):\n",
    "    print(f\"\\n[{split}]\")\n",
    "    print(\"Acc :\", accuracy_score(y_true, y_pred))\n",
    "    print(\"Prec:\", precision_score(y_true, y_pred, zero_division=0))\n",
    "    print(\"Rec :\", recall_score(y_true, y_pred))\n",
    "    print(\"F1  :\", f1_score(y_true, y_pred))\n",
    "    if proba is not None:\n",
    "        print(\"ROC-AUC:\", roc_auc_score(y_true, proba))\n",
    "\n",
    "show_classif_report(\"TREINO\", y_tr, p_tr)\n",
    "show_classif_report(\"TESTE \", y_te, p_te, proba_te)\n",
    "\n",
    "# --- 4) Gráficos rápidos: matriz de confusão + ROC --------------------------\n",
    "fig, ax = plt.subplots(1, 2, figsize=(10,4))\n",
    "\n",
    "ConfusionMatrixDisplay(confusion_matrix(y_te, p_te)).plot(ax=ax[0], colorbar=False)\n",
    "ax[0].set_title(\"Matriz de confusão (teste)\")\n",
    "\n",
    "from sklearn.metrics import plot_roc_curve\n",
    "plot_roc_curve(logreg, X_te, y_te, ax=ax[1])  # usa o estimador\n",
    "ax[1].set_title(\"Curva ROC (teste)\")\n",
    "\n",
    "plt.tight_layout()\n",
    "plt.show()"
   ]
  },
  {
   "cell_type": "code",
   "execution_count": null,
   "id": "fddd943e",
   "metadata": {},
   "outputs": [],
   "source": []
  }
 ],
 "metadata": {
  "kernelspec": {
   "display_name": "Python 3",
   "language": "python",
   "name": "python3"
  },
  "language_info": {
   "codemirror_mode": {
    "name": "ipython",
    "version": 3
   },
   "file_extension": ".py",
   "mimetype": "text/x-python",
   "name": "python",
   "nbconvert_exporter": "python",
   "pygments_lexer": "ipython3",
   "version": "3.6.8"
  }
 },
 "nbformat": 4,
 "nbformat_minor": 5
}

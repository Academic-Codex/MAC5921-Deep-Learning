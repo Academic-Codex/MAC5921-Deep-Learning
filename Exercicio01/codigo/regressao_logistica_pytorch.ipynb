{
 "cells": [
  {
   "cell_type": "markdown",
   "id": "f12ecedd",
   "metadata": {},
   "source": [
    "## 1) Carregando o Dataset"
   ]
  },
  {
   "cell_type": "code",
   "execution_count": 2,
   "id": "94067a6c",
   "metadata": {},
   "outputs": [
    {
     "name": "stdout",
     "output_type": "stream",
     "text": [
      "Primeiras 5 linhas do dataset:\n",
      "      Sex  Age  Height  Weight  Shoe number\n",
      "0  Female   53     154      59           36\n",
      "1    Male   23     170      56           40\n",
      "2  Female   23     167      63           37\n",
      "3    Male   21     178      78           40\n",
      "4  Female   25     153      58           36\n",
      "\n",
      "Informações do DataFrame:\n",
      "<class 'pandas.core.frame.DataFrame'>\n",
      "RangeIndex: 257 entries, 0 to 256\n",
      "Data columns (total 5 columns):\n",
      " #   Column       Non-Null Count  Dtype \n",
      "---  ------       --------------  ----- \n",
      " 0   Sex          257 non-null    object\n",
      " 1   Age          257 non-null    int64 \n",
      " 2   Height       257 non-null    int64 \n",
      " 3   Weight       257 non-null    int64 \n",
      " 4   Shoe number  257 non-null    int64 \n",
      "dtypes: int64(4), object(1)\n",
      "memory usage: 10.2+ KB\n"
     ]
    }
   ],
   "source": [
    "from pathlib import Path\n",
    "import pandas as pd\n",
    "\n",
    "# A função pd.read_csv() lê o arquivo e o carrega em um DataFrame do pandas.\n",
    "DATA_PATH = Path.cwd().joinpath(Path(\"Exercicio01/dataset/data_0460_5832.csv\"))\n",
    "df = pd.read_csv(DATA_PATH)\n",
    "\n",
    "# O comando .head() mostra as 5 primeiras linhas do DataFrame.\n",
    "print(\"Primeiras 5 linhas do dataset:\")\n",
    "print(df.head())\n",
    "\n",
    "# O comando .info() mostra um resumo técnico, incluindo os tipos de cada coluna.\n",
    "print('\\nInformações do DataFrame:')\n",
    "df.info()"
   ]
  },
  {
   "cell_type": "markdown",
   "id": "91d24d89",
   "metadata": {},
   "source": []
  },
  {
   "cell_type": "markdown",
   "id": "bd78e090",
   "metadata": {},
   "source": [
    "## 2) Tratamento dos dados\n",
    "\n",
    "Antes de treinar nosso modelo, precisamos preparar os dados. Isso envolve:\n",
    "\n",
    "1.  **Lidar com variáveis categóricas**: A coluna `Sex` é categórica ('Male'/'Female'). Os modelos de regressão linear requerem entradas numéricas. Usaremos uma técnica chamada *one-hot encoding* para converter essa coluna em colunas numéricas (0s e 1s).\n",
    "2.  **Definir Features (X) e Target (y)**: Separaremos nosso conjunto de dados em:\n",
    "    * `X`: a matriz de features (as variáveis que usaremos para fazer a previsão).\n",
    "    * `y`: o vetor alvo (a variável que queremos prever, neste caso, `Weight`)."
   ]
  },
  {
   "cell_type": "code",
   "execution_count": 3,
   "id": "0a695a49",
   "metadata": {},
   "outputs": [
    {
     "name": "stdout",
     "output_type": "stream",
     "text": [
      "Coluna Sex mapeada para {'Female': 0, 'Male': 1}\n"
     ]
    }
   ],
   "source": [
    "import numpy as np\n",
    "\n",
    "# Copiar o df original para não sobrescrever\n",
    "df_encoded = df.copy()\n",
    "\n",
    "# Identificar colunas categóricas que só têm dois valores\n",
    "for col in df_encoded.select_dtypes(include=['object', 'category']).columns:\n",
    "    valores = df_encoded[col].dropna().unique()\n",
    "    if len(valores) == 2:\n",
    "        # mapear automaticamente para 0/1\n",
    "        mapping = {valores[0]: 0, valores[1]: 1}\n",
    "        df_encoded[col] = df_encoded[col].map(mapping)\n",
    "        print(f\"Coluna {col} mapeada para {mapping}\")\n",
    "    else:\n",
    "        df_encoded.drop(columns=[col], inplace=True)\n",
    "# remove colunas constantes\n",
    "num_cols = df_encoded.select_dtypes(include=[np.number]).columns.tolist()\n",
    "num_cols = [c for c in num_cols if df_encoded[c].nunique(dropna=True) > 1]\n"
   ]
  },
  {
   "cell_type": "markdown",
   "id": "d128fee4",
   "metadata": {},
   "source": [
    "## 3) Regressão Logística"
   ]
  },
  {
   "cell_type": "code",
   "execution_count": 9,
   "id": "26ad9e62",
   "metadata": {},
   "outputs": [],
   "source": [
    "import numpy as np\n",
    "import torch\n",
    "import torch.nn as nn\n",
    "import torch.optim as optim\n",
    "import math\n",
    "import matplotlib.pyplot as plt\n",
    "\n",
    "# ---------- split estratificado (NumPy) ----------\n",
    "def stratified_split(X, y, test_size=0.3, seed=0):\n",
    "    \"\"\"\n",
    "    Split estratificado simples para duas classes (0/1).\n",
    "    Retorna: X_tr, X_te, y_tr, y_te\n",
    "    \"\"\"\n",
    "    rng = np.random.RandomState(seed)\n",
    "    X = np.asarray(X, float)\n",
    "    y = np.asarray(y, int).ravel()\n",
    "    assert set(np.unique(y)) <= {0,1}, \"y deve ser binário {0,1}\"\n",
    "\n",
    "    idx0 = np.where(y == 0)[0]; rng.shuffle(idx0)\n",
    "    idx1 = np.where(y == 1)[0]; rng.shuffle(idx1)\n",
    "\n",
    "    n0_te = int(round(len(idx0)*test_size))\n",
    "    n1_te = int(round(len(idx1)*test_size))\n",
    "\n",
    "    te_idx = np.r_[idx0[:n0_te], idx1[:n1_te]]\n",
    "    tr_idx = np.r_[idx0[n0_te:], idx1[n1_te:]]\n",
    "    rng.shuffle(te_idx); rng.shuffle(tr_idx)\n",
    "\n",
    "    return X[tr_idx], X[te_idx], y[tr_idx], y[te_idx]\n",
    "\n",
    "# ---------- padronização  ----------\n",
    "def standardize_fit(X):\n",
    "    mu = X.mean(axis=0)\n",
    "    std = X.std(axis=0, ddof=0)\n",
    "    std = np.where(std < 1e-12, 1.0, std)  # evita divisão por ~0\n",
    "    return mu, std\n",
    "\n",
    "def standardize_transform(X, mu, std):\n",
    "    return (X - mu)/std\n",
    "\n",
    "# ---------- métricas ----------\n",
    "def binary_metrics(y_true, y_pred):\n",
    "    \"\"\"\n",
    "    y_true, y_pred: arrays 0/1\n",
    "    Retorna dict com acc, prec, rec, f1, conf_mat\n",
    "    \"\"\"\n",
    "    y_true = np.asarray(y_true, int).ravel()\n",
    "    y_pred = np.asarray(y_pred, int).ravel()\n",
    "    assert y_true.shape == y_pred.shape\n",
    "\n",
    "    tp = int(np.sum((y_true==1) & (y_pred==1)))\n",
    "    tn = int(np.sum((y_true==0) & (y_pred==0)))\n",
    "    fp = int(np.sum((y_true==0) & (y_pred==1)))\n",
    "    fn = int(np.sum((y_true==1) & (y_pred==0)))\n",
    "\n",
    "    acc  = (tp + tn) / max(1, tp+tn+fp+fn)\n",
    "    prec = tp / max(1, tp+fp)\n",
    "    rec  = tp / max(1, tp+fn)\n",
    "    f1   = 0.0 if (prec+rec)==0 else 2*prec*rec/(prec+rec)\n",
    "    cm   = np.array([[tn, fp],\n",
    "                     [fn, tp]], dtype=int)\n",
    "    return {\"acc\":acc, \"prec\":prec, \"rec\":rec, \"f1\":f1, \"conf_mat\":cm}\n",
    "\n",
    "def roc_curve_np(y_true, y_score, n_thresh=200):\n",
    "    \"\"\"\n",
    "    Curva ROC sem sklearn.\n",
    "    y_true: 0/1; y_score: probabilidade p(y=1)\n",
    "    Retorna fpr, tpr, thresholds e auc\n",
    "    \"\"\"\n",
    "    y_true = np.asarray(y_true, int).ravel()\n",
    "    y_score = np.asarray(y_score, float).ravel()\n",
    "    # thresholds do 0 ao 1 (inclui extremos)\n",
    "    thresholds = np.linspace(1, 0, num=n_thresh, endpoint=True)\n",
    "    tpr_list, fpr_list = [], []\n",
    "    P = np.sum(y_true==1); N = np.sum(y_true==0)\n",
    "    P = max(1, P); N = max(1, N)\n",
    "\n",
    "    for thr in thresholds:\n",
    "        y_hat = (y_score >= thr).astype(int)\n",
    "        tp = np.sum((y_true==1) & (y_hat==1))\n",
    "        fp = np.sum((y_true==0) & (y_hat==1))\n",
    "        tpr_list.append(tp/P)\n",
    "        fpr_list.append(fp/N)\n",
    "\n",
    "    # AUC por regra do trapézio\n",
    "    fpr = np.array(fpr_list); tpr = np.array(tpr_list)\n",
    "    auc = float(np.trapz(tpr, fpr))\n",
    "    return fpr, tpr, thresholds, auc"
   ]
  },
  {
   "cell_type": "code",
   "execution_count": 10,
   "id": "b8632ada",
   "metadata": {},
   "outputs": [],
   "source": [
    "class LogisticReg(nn.Module):\n",
    "    def __init__(self, d):\n",
    "        super().__init__()\n",
    "        self.linear = nn.Linear(d, 1)  # w0 é o bias\n",
    "\n",
    "    def forward(self, X):\n",
    "        # retorna logits\n",
    "        return self.linear(X)\n",
    "\n",
    "def train_logreg_torch(X_tr, y_tr, X_te, y_te, *,\n",
    "                       lr=1e-2, epochs=500, seed=0, device=\"cpu\"):\n",
    "    \"\"\"\n",
    "    X_tr, X_te: np.ndarray padronizados\n",
    "    y_tr, y_te: arrays {0,1}\n",
    "    Retorna: model, history(dict), outputs (probas e preds no teste)\n",
    "    \"\"\"\n",
    "    torch.manual_seed(seed); np.random.seed(seed)\n",
    "\n",
    "    Xtr = torch.tensor(X_tr, dtype=torch.float32, device=device)\n",
    "    Xte = torch.tensor(X_te, dtype=torch.float32, device=device)\n",
    "    ytr = torch.tensor(y_tr.reshape(-1, 1), dtype=torch.float32, device=device)\n",
    "\n",
    "    model = LogisticReg(d=X_tr.shape[1]).to(device)\n",
    "    crit  = nn.BCEWithLogitsLoss()\n",
    "    opt   = optim.Adam(model.parameters(), lr=lr)\n",
    "\n",
    "    hist_loss, hist_acc = [], []\n",
    "\n",
    "    for ep in range(1, epochs+1):\n",
    "        model.train()\n",
    "        opt.zero_grad()\n",
    "        logits = model(Xtr)                    # (N,1)\n",
    "        loss   = crit(logits, ytr)             # BCE nos logits\n",
    "        loss.backward()\n",
    "        opt.step()\n",
    "\n",
    "        with torch.no_grad():\n",
    "            prob = torch.sigmoid(logits).cpu().numpy().ravel()\n",
    "            pred = (prob >= 0.5).astype(int)\n",
    "            acc  = (pred == y_tr).mean()\n",
    "\n",
    "        hist_loss.append(float(loss.detach().cpu()))\n",
    "        hist_acc.append(float(acc))\n",
    "\n",
    "    # ---- avaliação em teste\n",
    "    model.eval()\n",
    "    with torch.no_grad():\n",
    "        logits_te = model(Xte)\n",
    "        prob_te   = torch.sigmoid(logits_te).cpu().numpy().ravel()\n",
    "        pred_te   = (prob_te >= 0.5).astype(int)\n",
    "\n",
    "    history = {\"loss\": hist_loss, \"acc\": hist_acc}\n",
    "    return model, history, {\"prob_te\": prob_te, \"pred_te\": pred_te}"
   ]
  },
  {
   "cell_type": "code",
   "execution_count": 12,
   "id": "6ba49061",
   "metadata": {},
   "outputs": [
    {
     "name": "stdout",
     "output_type": "stream",
     "text": [
      "acc=0.922 | prec=0.912 | rec=0.981 | f1=0.945\n",
      "Matriz de confusão (linhas=verdadeiro [0,1], cols=previsto [0,1]):\n",
      " [[19  5]\n",
      " [ 1 52]]\n",
      "AUC = 0.983\n"
     ]
    },
    {
     "data": {
      "image/png": "[encoded data removed]",
      "text/plain": [
       "<Figure size 720x288 with 2 Axes>"
      ]
     },
     "metadata": {
      "needs_background": "light"
     },
     "output_type": "display_data"
    },
    {
     "data": {
      "image/png": "[encoded data removed]",
      "text/plain": [
       "<Figure size 324x288 with 1 Axes>"
      ]
     },
     "metadata": {
      "needs_background": "light"
     },
     "output_type": "display_data"
    }
   ],
   "source": [
    "# ---------  escolha do target e features  ----------\n",
    "TARGET = \"Sex\"       # coluna binária 0/1\n",
    "FEATS  = [c for c in df_encoded.columns if c != TARGET]\n",
    "\n",
    "X = df_encoded[FEATS].to_numpy(dtype=float)\n",
    "y = df_encoded[TARGET].to_numpy(dtype=int)\n",
    "\n",
    "# --------- split estratificado + padronização (sem sklearn) ----------\n",
    "X_tr, X_te, y_tr, y_te = stratified_split(X, y, test_size=0.3, seed=0)\n",
    "mu, std = standardize_fit(X_tr)\n",
    "X_tr_n = standardize_transform(X_tr, mu, std)\n",
    "X_te_n = standardize_transform(X_te, mu, std)\n",
    "\n",
    "# --------- treino no PyTorch ----------\n",
    "model, history, out = train_logreg_torch(\n",
    "    X_tr_n, y_tr, X_te_n, y_te,\n",
    "    lr=1e-2, epochs=500, seed=0, device=\"cpu\"\n",
    ")\n",
    "\n",
    "prob_te = out[\"prob_te\"]; pred_te = out[\"pred_te\"]\n",
    "\n",
    "# --------- métricas e gráficos ----------\n",
    "m = binary_metrics(y_te, pred_te)\n",
    "print(f\"acc={m['acc']:.3f} | prec={m['prec']:.3f} | rec={m['rec']:.3f} | f1={m['f1']:.3f}\")\n",
    "print(\"Matriz de confusão (linhas=verdadeiro [0,1], cols=previsto [0,1]):\\n\", m[\"conf_mat\"])\n",
    "\n",
    "fpr, tpr, thr, auc = roc_curve_np(y_te, prob_te)\n",
    "print(f\"AUC = {auc:.3f}\")\n",
    "\n",
    "# Curvas de treino (loss/acurácia)\n",
    "fig, ax = plt.subplots(1,2, figsize=(10,4))\n",
    "ax[0].plot(history[\"loss\"]); ax[0].set_title(\"BCE (treino)\"); ax[0].set_xlabel(\"Época\")\n",
    "ax[1].plot(history[\"acc\"]);  ax[1].set_title(\"Acurácia (treino)\"); ax[1].set_xlabel(\"Época\")\n",
    "plt.tight_layout(); plt.show()\n",
    "\n",
    "# ROC\n",
    "plt.figure(figsize=(4.5,4))\n",
    "plt.plot(fpr, tpr, label=f\"ROC (AUC={auc:.3f})\")\n",
    "plt.plot([0,1],[0,1], 'k--', lw=1)\n",
    "plt.xlabel(\"FPR\"); plt.ylabel(\"TPR\"); plt.title(\"Curva ROC (teste)\")\n",
    "plt.legend(); plt.grid(alpha=.3); plt.show()"
   ]
  },
  {
   "cell_type": "markdown",
   "id": "7fbb9b21",
   "metadata": {},
   "source": []
  },
  {
   "cell_type": "markdown",
   "id": "257f07e6",
   "metadata": {},
   "source": []
  }
 ],
 "metadata": {
  "kernelspec": {
   "display_name": "Python 3",
   "language": "python",
   "name": "python3"
  },
  "language_info": {
   "codemirror_mode": {
    "name": "ipython",
    "version": 3
   },
   "file_extension": ".py",
   "mimetype": "text/x-python",
   "name": "python",
   "nbconvert_exporter": "python",
   "pygments_lexer": "ipython3",
   "version": "3.6.8"
  }
 },
 "nbformat": 4,
 "nbformat_minor": 5
}

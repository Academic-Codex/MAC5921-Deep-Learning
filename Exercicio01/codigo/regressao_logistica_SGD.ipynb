{
 "cells": [
  {
   "cell_type": "markdown",
   "id": "3fd46d4b",
   "metadata": {},
   "source": [
    "## 1) Carregando o Dataset"
   ]
  },
  {
   "cell_type": "code",
   "execution_count": 12,
   "id": "bd7da361",
   "metadata": {},
   "outputs": [
    {
     "name": "stdout",
     "output_type": "stream",
     "text": [
      "Primeiras 5 linhas do dataset:\n",
      "      Sex  Age  Height  Weight  Shoe number\n",
      "0  Female   53     154      59           36\n",
      "1    Male   23     170      56           40\n",
      "2  Female   23     167      63           37\n",
      "3    Male   21     178      78           40\n",
      "4  Female   25     153      58           36\n",
      "\n",
      "Informações do DataFrame:\n",
      "<class 'pandas.core.frame.DataFrame'>\n",
      "RangeIndex: 257 entries, 0 to 256\n",
      "Data columns (total 5 columns):\n",
      " #   Column       Non-Null Count  Dtype \n",
      "---  ------       --------------  ----- \n",
      " 0   Sex          257 non-null    object\n",
      " 1   Age          257 non-null    int64 \n",
      " 2   Height       257 non-null    int64 \n",
      " 3   Weight       257 non-null    int64 \n",
      " 4   Shoe number  257 non-null    int64 \n",
      "dtypes: int64(4), object(1)\n",
      "memory usage: 10.2+ KB\n"
     ]
    }
   ],
   "source": [
    "from pathlib import Path\n",
    "import pandas as pd\n",
    "\n",
    "# A função pd.read_csv() lê o arquivo e o carrega em um DataFrame do pandas.\n",
    "DATA_PATH = Path.cwd().joinpath(Path(\"Exercicio01/dataset/data_0460_5832.csv\"))\n",
    "df = pd.read_csv(DATA_PATH)\n",
    "\n",
    "# O comando .head() mostra as 5 primeiras linhas do DataFrame.\n",
    "print(\"Primeiras 5 linhas do dataset:\")\n",
    "print(df.head())\n",
    "\n",
    "# O comando .info() mostra um resumo técnico, incluindo os tipos de cada coluna.\n",
    "print('\\nInformações do DataFrame:')\n",
    "df.info()"
   ]
  },
  {
   "cell_type": "markdown",
   "id": "726cb8a4",
   "metadata": {},
   "source": [
    "## 2) Tratamento dos dados\n",
    "\n",
    "Antes de treinar nosso modelo, precisamos preparar os dados. Isso envolve:\n",
    "\n",
    "1.  **Lidar com variáveis categóricas**: A coluna `Sex` é categórica ('Male'/'Female'). Os modelos de regressão linear requerem entradas numéricas. Usaremos uma técnica chamada *one-hot encoding* para converter essa coluna em colunas numéricas (0s e 1s).\n",
    "2.  **Definir Features (X) e Target (y)**: Separaremos nosso conjunto de dados em:\n",
    "    * `X`: a matriz de features (as variáveis que usaremos para fazer a previsão).\n",
    "    * `y`: o vetor alvo (a variável que queremos prever, neste caso, `Weight`)."
   ]
  },
  {
   "cell_type": "code",
   "execution_count": 13,
   "id": "433cf117",
   "metadata": {},
   "outputs": [
    {
     "name": "stdout",
     "output_type": "stream",
     "text": [
      "Coluna Sex mapeada para {'Female': 0, 'Male': 1}\n"
     ]
    }
   ],
   "source": [
    "import numpy as np\n",
    "\n",
    "# Copiar o df original para não sobrescrever\n",
    "df_encoded = df.copy()\n",
    "\n",
    "# Identificar colunas categóricas que só têm dois valores\n",
    "for col in df_encoded.select_dtypes(include=['object', 'category']).columns:\n",
    "    valores = df_encoded[col].dropna().unique()\n",
    "    if len(valores) == 2:\n",
    "        # mapear automaticamente para 0/1\n",
    "        mapping = {valores[0]: 0, valores[1]: 1}\n",
    "        df_encoded[col] = df_encoded[col].map(mapping)\n",
    "        print(f\"Coluna {col} mapeada para {mapping}\")\n",
    "    else:\n",
    "        df_encoded.drop(columns=[col], inplace=True)\n",
    "# remove colunas constantes\n",
    "num_cols = df_encoded.select_dtypes(include=[np.number]).columns.tolist()\n",
    "num_cols = [c for c in num_cols if df_encoded[c].nunique(dropna=True) > 1]\n"
   ]
  },
  {
   "cell_type": "code",
   "execution_count": 20,
   "id": "081fb9e1",
   "metadata": {},
   "outputs": [],
   "source": [
    "# --- imports necessários ---\n",
    "import numpy as np\n",
    "import torch\n",
    "import matplotlib.pyplot as plt\n",
    "\n",
    "from sklearn.preprocessing import StandardScaler\n",
    "from sklearn.metrics import accuracy_score, confusion_matrix, roc_curve, auc\n",
    "\n",
    "# --------- treino SGD com histórico ---------\n",
    "def fit_logreg_sgd_with_history(\n",
    "    X_np, y_np, *, lr=1e-2, epochs=600, batch_size=32, seed=0\n",
    "):\n",
    "    \"\"\"\n",
    "    Regressão logística binária com SGD (mini-batch) em PyTorch.\n",
    "    Guarda históricos de BCE e acurácia por época e devolve (modelo, scaler, history).\n",
    "    \"\"\"\n",
    "    g = torch.Generator().manual_seed(seed)\n",
    "    torch.manual_seed(seed)\n",
    "    rng = np.random.RandomState(seed)\n",
    "\n",
    "    # padroniza (como fizemos no BGD)\n",
    "    scaler = StandardScaler().fit(X_np)\n",
    "    Xz = scaler.transform(X_np).astype(np.float32)\n",
    "    y  = y_np.astype(np.float32).reshape(-1, 1)\n",
    "\n",
    "    X = torch.tensor(Xz, dtype=torch.float32)\n",
    "    y = torch.tensor(y,  dtype=torch.float32)\n",
    "\n",
    "    model = torch.nn.Linear(X.shape[1], 1)\n",
    "    crit  = torch.nn.BCEWithLogitsLoss()\n",
    "    opt   = torch.optim.SGD(model.parameters(), lr=lr)\n",
    "\n",
    "    bce_hist, acc_hist = [], []\n",
    "\n",
    "    for ep in range(1, epochs+1):\n",
    "        # baralha e varre em mini-lotes\n",
    "        idx = rng.permutation(X.shape[0])\n",
    "        for i in range(0, X.shape[0], batch_size):\n",
    "            bs = torch.tensor(idx[i:i+batch_size], dtype=torch.long)\n",
    "            xb, yb = X.index_select(0, bs), y.index_select(0, bs)\n",
    "\n",
    "            opt.zero_grad()\n",
    "            logits = model(xb)\n",
    "            loss   = crit(logits, yb)\n",
    "            loss.backward()\n",
    "            opt.step()\n",
    "\n",
    "        # métricas (em todo o treino) p/ histórico\n",
    "        with torch.no_grad():\n",
    "            logits_all = model(X)\n",
    "            prob_all   = torch.sigmoid(logits_all).cpu().numpy().ravel()\n",
    "            pred_all   = (prob_all >= 0.5).astype(int)\n",
    "            acc = accuracy_score(y_np.ravel().astype(int), pred_all)\n",
    "            bce = float(crit(logits_all, y).detach().cpu())\n",
    "        bce_hist.append(bce)\n",
    "        acc_hist.append(acc)\n",
    "\n",
    "    history = {\"bce\": bce_hist, \"acc\": acc_hist}\n",
    "    return {\"model\": model, \"scaler\": scaler, \"history\": history}\n",
    "\n",
    "\n",
    "# --------- plots de treino (loss/acc) + avaliação no teste (ROC + matriz) ---------\n",
    "def plot_logreg_sgd(out, X_te, y_te):\n",
    "    model, scaler, hist = out[\"model\"], out[\"scaler\"], out[\"history\"]\n",
    "\n",
    "    # curvas de treino\n",
    "    fig, ax = plt.subplots(1, 2, figsize=(10, 4))\n",
    "    ax[0].plot(hist[\"bce\"]); ax[0].set_title(\"SGD: BCE (treino)\"); ax[0].set_xlabel(\"Época\"); ax[0].set_ylabel(\"BCE\")\n",
    "    ax[1].plot(hist[\"acc\"]); ax[1].set_title(\"SGD: Acurácia (treino)\"); ax[1].set_xlabel(\"Época\"); ax[1].set_ylabel(\"Acc\")\n",
    "    plt.tight_layout(); plt.show()\n",
    "\n",
    "    # avaliação no teste\n",
    "    X_te_scaled = scaler.transform(X_te).astype(np.float32)\n",
    "    Xt = torch.tensor(X_te_scaled, dtype=torch.float32)\n",
    "    with torch.no_grad():\n",
    "        prob = torch.sigmoid(model(Xt)).cpu().numpy().ravel()\n",
    "    pred = (prob >= 0.5).astype(int)\n",
    "\n",
    "    # ROC (cálculo robusto, sem depender de versão do sklearn)\n",
    "    fpr, tpr, _ = roc_curve(y_te.ravel().astype(int), prob)\n",
    "    auc_val = auc(fpr, tpr)\n",
    "\n",
    "    # matriz de confusão + ROC\n",
    "    cm = confusion_matrix(y_te.ravel().astype(int), pred)\n",
    "    fig, ax = plt.subplots(1, 2, figsize=(10, 4))\n",
    "\n",
    "    im = ax[0].imshow(cm, cmap=\"Blues\")\n",
    "    ax[0].set_title(\"Matriz de confusão (teste)\")\n",
    "    ax[0].set_xlabel(\"Previsto\"); ax[0].set_ylabel(\"Verdadeiro\")\n",
    "    for (i, j), v in np.ndenumerate(cm):\n",
    "        ax[0].text(j, i, str(v), ha='center', va='center')\n",
    "    plt.colorbar(im, ax=ax[0], fraction=0.046, pad=0.04)\n",
    "\n",
    "    ax[1].plot(fpr, tpr, label=f\"AUC = {auc_val:.3f}\")\n",
    "    ax[1].plot([0,1],[0,1],'k--', lw=1)\n",
    "    ax[1].set_title(\"Curva ROC (teste)\")\n",
    "    ax[1].set_xlabel(\"FPR\"); ax[1].set_ylabel(\"TPR\")\n",
    "    ax[1].legend(loc=\"lower right\")\n",
    "    plt.tight_layout(); plt.show()\n",
    "\n",
    "    # imprime métricas rápidas\n",
    "    print(f\"Teste — acc={accuracy_score(y_te, pred):.3f}  |  AUC={auc_val:.3f}\")"
   ]
  },
  {
   "cell_type": "code",
   "execution_count": 21,
   "id": "754887e9",
   "metadata": {},
   "outputs": [
    {
     "data": {
      "image/png": "[encoded data removed]",
      "text/plain": [
       "<Figure size 720x288 with 2 Axes>"
      ]
     },
     "metadata": {
      "needs_background": "light"
     },
     "output_type": "display_data"
    },
    {
     "data": {
      "image/png": "[encoded data removed]",
      "text/plain": [
       "<Figure size 720x288 with 3 Axes>"
      ]
     },
     "metadata": {
      "needs_background": "light"
     },
     "output_type": "display_data"
    },
    {
     "name": "stdout",
     "output_type": "stream",
     "text": [
      "Teste — acc=0.862  |  AUC=0.929\n"
     ]
    }
   ],
   "source": [
    "sgd_out = fit_logreg_sgd_with_history(X_tr, y_tr, lr=1e-2, epochs=600, batch_size=32, seed=0)\n",
    "plot_logreg_sgd(sgd_out, X_te, y_te)"
   ]
  },
  {
   "cell_type": "markdown",
   "id": "c09e7cec",
   "metadata": {},
   "source": []
  }
 ],
 "metadata": {
  "kernelspec": {
   "display_name": "Python 3",
   "language": "python",
   "name": "python3"
  },
  "language_info": {
   "codemirror_mode": {
    "name": "ipython",
    "version": 3
   },
   "file_extension": ".py",
   "mimetype": "text/x-python",
   "name": "python",
   "nbconvert_exporter": "python",
   "pygments_lexer": "ipython3",
   "version": "3.6.8"
  }
 },
 "nbformat": 4,
 "nbformat_minor": 5
}

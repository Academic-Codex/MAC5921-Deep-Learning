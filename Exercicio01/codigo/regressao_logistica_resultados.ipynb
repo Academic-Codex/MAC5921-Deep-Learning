{
 "cells": [
  {
   "cell_type": "markdown",
   "id": "16e76242",
   "metadata": {},
   "source": [
    "## 1) Carregando os resultados"
   ]
  },
  {
   "cell_type": "code",
   "execution_count": null,
   "id": "38d3d975",
   "metadata": {},
   "outputs": [
    {
     "data": {
      "text/html": [
       "<style  type=\"text/css\" >\n",
       "</style><table id=\"T_9c880b90_8c66_11f0_b81e_0cc47ae52672\" ><thead>    <tr>        <th class=\"blank level0\" ></th>        <th class=\"col_heading level0 col0\" >Método</th>        <th class=\"col_heading level0 col1\" >Acc</th>        <th class=\"col_heading level0 col2\" >Prec</th>        <th class=\"col_heading level0 col3\" >Rec</th>        <th class=\"col_heading level0 col4\" >F1</th>        <th class=\"col_heading level0 col5\" >ROC-AUC</th>    </tr></thead><tbody>\n",
       "                <tr>\n",
       "                        <th id=\"T_9c880b90_8c66_11f0_b81e_0cc47ae52672level0_row0\" class=\"row_heading level0 row0\" >0</th>\n",
       "                        <td id=\"T_9c880b90_8c66_11f0_b81e_0cc47ae52672row0_col0\" class=\"data row0 col0\" >Scikit-learn (Pipeline)</td>\n",
       "                        <td id=\"T_9c880b90_8c66_11f0_b81e_0cc47ae52672row0_col1\" class=\"data row0 col1\" >0.8615</td>\n",
       "                        <td id=\"T_9c880b90_8c66_11f0_b81e_0cc47ae52672row0_col2\" class=\"data row0 col2\" >0.9500</td>\n",
       "                        <td id=\"T_9c880b90_8c66_11f0_b81e_0cc47ae52672row0_col3\" class=\"data row0 col3\" >0.8444</td>\n",
       "                        <td id=\"T_9c880b90_8c66_11f0_b81e_0cc47ae52672row0_col4\" class=\"data row0 col4\" >0.8941</td>\n",
       "                        <td id=\"T_9c880b90_8c66_11f0_b81e_0cc47ae52672row0_col5\" class=\"data row0 col5\" >0.9322</td>\n",
       "            </tr>\n",
       "            <tr>\n",
       "                        <th id=\"T_9c880b90_8c66_11f0_b81e_0cc47ae52672level0_row1\" class=\"row_heading level0 row1\" >1</th>\n",
       "                        <td id=\"T_9c880b90_8c66_11f0_b81e_0cc47ae52672row1_col0\" class=\"data row1 col0\" >PyTorch (BGD)</td>\n",
       "                        <td id=\"T_9c880b90_8c66_11f0_b81e_0cc47ae52672row1_col1\" class=\"data row1 col1\" >0.8615</td>\n",
       "                        <td id=\"T_9c880b90_8c66_11f0_b81e_0cc47ae52672row1_col2\" class=\"data row1 col2\" >0.9500</td>\n",
       "                        <td id=\"T_9c880b90_8c66_11f0_b81e_0cc47ae52672row1_col3\" class=\"data row1 col3\" >0.8444</td>\n",
       "                        <td id=\"T_9c880b90_8c66_11f0_b81e_0cc47ae52672row1_col4\" class=\"data row1 col4\" >0.8941</td>\n",
       "                        <td id=\"T_9c880b90_8c66_11f0_b81e_0cc47ae52672row1_col5\" class=\"data row1 col5\" >0.9311</td>\n",
       "            </tr>\n",
       "            <tr>\n",
       "                        <th id=\"T_9c880b90_8c66_11f0_b81e_0cc47ae52672level0_row2\" class=\"row_heading level0 row2\" >2</th>\n",
       "                        <td id=\"T_9c880b90_8c66_11f0_b81e_0cc47ae52672row2_col0\" class=\"data row2 col0\" >PyTorch (SGD)</td>\n",
       "                        <td id=\"T_9c880b90_8c66_11f0_b81e_0cc47ae52672row2_col1\" class=\"data row2 col1\" >0.8615</td>\n",
       "                        <td id=\"T_9c880b90_8c66_11f0_b81e_0cc47ae52672row2_col2\" class=\"data row2 col2\" >0.9500</td>\n",
       "                        <td id=\"T_9c880b90_8c66_11f0_b81e_0cc47ae52672row2_col3\" class=\"data row2 col3\" >0.8444</td>\n",
       "                        <td id=\"T_9c880b90_8c66_11f0_b81e_0cc47ae52672row2_col4\" class=\"data row2 col4\" >0.8941</td>\n",
       "                        <td id=\"T_9c880b90_8c66_11f0_b81e_0cc47ae52672row2_col5\" class=\"data row2 col5\" >0.9290</td>\n",
       "            </tr>\n",
       "    </tbody></table>"
      ],
      "text/plain": [
       "<pandas.io.formats.style.Styler at 0x2b786cd8b438>"
      ]
     },
     "metadata": {},
     "output_type": "display_data"
    }
   ],
   "source": [
    "import pandas as pd\n",
    "\n",
    "# números lidos das suas figuras\n",
    "rows = [\n",
    "    {\"Método\": \"Scikit-learn (Pipeline)\", \"Acc\": 0.8615, \"Prec\": 0.9500, \"Rec\": 0.8444, \"F1\": 0.8941, \"ROC-AUC\": 0.9322},\n",
    "    {\"Método\": \"PyTorch (BGD)\",          \"Acc\": 0.8615, \"Prec\": 0.9500, \"Rec\": 0.8444, \"F1\": 0.8941, \"ROC-AUC\": 0.9311},\n",
    "    {\"Método\": \"PyTorch (SGD)\",          \"Acc\": 0.8615, \"Prec\": 0.9500, \"Rec\": 0.8444, \"F1\": 0.8941, \"ROC-AUC\": 0.9290},\n",
    "]\n",
    "\n",
    "df_logit = pd.DataFrame(rows)\n",
    "display(df_logit.style.format({\"Acc\":\"{:.4f}\",\"Prec\":\"{:.4f}\",\"Rec\":\"{:.4f}\",\"F1\":\"{:.4f}\",\"ROC-AUC\":\"{:.4f}\"}))"
   ]
  },
  {
   "cell_type": "code",
   "execution_count": null,
   "id": "466aac13",
   "metadata": {},
   "outputs": [],
   "source": []
  }
 ],
 "metadata": {
  "kernelspec": {
   "display_name": "Python 3",
   "language": "python",
   "name": "python3"
  }
 },
 "nbformat": 4,
 "nbformat_minor": 5
}

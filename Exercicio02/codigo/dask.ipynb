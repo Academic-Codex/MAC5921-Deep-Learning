{
 "cells": [
  {
   "cell_type": "markdown",
   "id": "4bda571d",
   "metadata": {},
   "source": [
    "## Imports e a Definição da Função"
   ]
  },
  {
   "cell_type": "code",
   "execution_count": null,
   "id": "f5bcdc3b",
   "metadata": {},
   "outputs": [],
   "source": [
    "import time\n",
    "import socket\n",
    "from dask_jobqueue import SLURMCluster\n",
    "from dask.distributed import Client\n",
    "\n",
    "def ola_mundo_hpc(quem):\n",
    "    \"\"\"\n",
    "    Uma função simples que simula um trabalho e descobre onde está rodando.\n",
    "    \"\"\"\n",
    "    # Esta mensagem aparecerá no arquivo de log do Slurm no HPC, não no output da sua célula!\n",
    "    print(\"Olá do worker! Começando a 'trabalhar'...\")\n",
    "\n",
    "    # Simula um trabalho que leva 5 segundos\n",
    "    time.sleep(5)\n",
    "\n",
    "    # Pega o nome do nó de computação do HPC onde este código está rodando\n",
    "    hostname_do_worker = socket.gethostname()\n",
    "\n",
    "    # Monta a mensagem de retorno\n",
    "    mensagem_de_retorno = (\n",
    "        f\"Olá, {quem}! Esta mensagem foi processada com sucesso no nó do HPC chamado: '{hostname_do_worker}'.\"\n",
    "    )\n",
    "\n",
    "    return mensagem_de_retorno"
   ]
  },
  {
   "cell_type": "markdown",
   "id": "28e05012",
   "metadata": {},
   "source": [
    "## Configurar e Iniciar a Conexão com o Cluster"
   ]
  },
  {
   "cell_type": "code",
   "execution_count": null,
   "id": "eec9b24e",
   "metadata": {},
   "outputs": [],
   "source": [
    "# Configure a descrição do job que queremos do Slurm\n",
    "cluster = SLURMCluster(\n",
    "    cores=1,                     # Quantos núcleos de CPU queremos\n",
    "    memory='4GB',                # Quanta memória queremos\n",
    "    project='seu-projeto',       # O nome do seu projeto/conta no HPC (adapte!)\n",
    "    queue='compute',             # A partição/fila do Slurm para submeter o job (adapte!)\n",
    "    walltime='00:10:00',         # Tempo máximo de execução do job (10 minutos)\n",
    "    job_name='dask-jupyter',     # Nome do job que aparecerá no Slurm\n",
    "    log_directory='./slurm_logs' # Pasta para guardar os logs do Slurm\n",
    ")\n",
    "\n",
    "# Conecta o \"cliente\" Dask ao cluster. O cliente é sua interface de controle.\n",
    "client = Client(cluster)"
   ]
  },
  {
   "cell_type": "code",
   "execution_count": null,
   "id": "066f435f",
   "metadata": {},
   "outputs": [],
   "source": []
  }
 ],
 "metadata": {
  "kernelspec": {
   "display_name": ".venv",
   "language": "python",
   "name": "python3"
  },
  "language_info": {
   "codemirror_mode": {
    "name": "ipython",
    "version": 3
   },
   "file_extension": ".py",
   "mimetype": "text/x-python",
   "name": "python",
   "nbconvert_exporter": "python",
   "pygments_lexer": "ipython3",
   "version": "3.13.5"
  }
 },
 "nbformat": 4,
 "nbformat_minor": 5
}
